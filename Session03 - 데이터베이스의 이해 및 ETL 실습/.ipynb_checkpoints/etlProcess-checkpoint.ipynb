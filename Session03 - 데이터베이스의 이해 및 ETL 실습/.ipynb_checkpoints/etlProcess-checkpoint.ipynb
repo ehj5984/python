{
 "cells": [
  {
   "cell_type": "code",
   "execution_count": 10,
   "metadata": {},
   "outputs": [],
   "source": [
    "import psycopg2\n",
    "import pandas as pd\n",
    "from sqlalchemy import create_engine"
   ]
  },
  {
   "cell_type": "code",
   "execution_count": 20,
   "metadata": {},
   "outputs": [],
   "source": [
    "indata = pd.read_csv(\"../dataset/kopo_customerdata.csv\")"
   ]
  },
  {
   "cell_type": "code",
   "execution_count": 21,
   "metadata": {},
   "outputs": [],
   "source": [
    "indata.columns = indata.columns.str.lower()"
   ]
  },
  {
   "cell_type": "code",
   "execution_count": 24,
   "metadata": {},
   "outputs": [
    {
     "name": "stdout",
     "output_type": "stream",
     "text": [
      "pgout_kopo_hj unload 성공\n"
     ]
    }
   ],
   "source": [
    "targetDbIp = \"192.168.110.111\"\n",
    "targetDbPort = \"5432\"\n",
    "targetDbId = \"kopo\"\n",
    "targetDbPw = \"kopo\"\n",
    "targetDbName = \"kopodb\"\n",
    "\n",
    "\n",
    "targetDbPrefix =  \"postgresql://\"\n",
    "\n",
    "targetUrl = \"{}{}:{}@{}:{}/{}\".format(targetDbPrefix,\n",
    "                                   targetDbId,\n",
    "                                   targetDbPw,\n",
    "                                   targetDbIp,\n",
    "                                   targetDbPort, \n",
    "                                   targetDbName)\n",
    "\n",
    "\n",
    "tableName =\"pgout_kopo_hj\"\n",
    "\n",
    "pg_kopo_engine = create_engine(targetUrl)\n",
    "\n",
    "\n",
    "\n",
    "try:\n",
    "    indata.to_sql(name = tableName, con = pg_kopo_engine, if_exists = \"replace\", index = False  )\n",
    "    print(\"{} unload 성공\".format(tableName))\n",
    "    \n",
    "except Exception as e:\n",
    "    print(e)"
   ]
  }
 ],
 "metadata": {
  "kernelspec": {
   "display_name": "Python 3",
   "language": "python",
   "name": "python3"
  },
  "language_info": {
   "codemirror_mode": {
    "name": "ipython",
    "version": 3
   },
   "file_extension": ".py",
   "mimetype": "text/x-python",
   "name": "python",
   "nbconvert_exporter": "python",
   "pygments_lexer": "ipython3",
   "version": "3.8.3"
  }
 },
 "nbformat": 4,
 "nbformat_minor": 4
}
